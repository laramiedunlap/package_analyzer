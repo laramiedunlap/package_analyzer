{
 "cells": [
  {
   "cell_type": "code",
   "execution_count": 4,
   "metadata": {},
   "outputs": [],
   "source": [
    "import pandas as pd\n",
    "import re\n",
    "\n",
    "def convert_formats_to_floats(df):\n",
    "    pattern = re.compile(r'^-?\\d{1,3}(?:,\\d{3})*(?:\\.\\d+)?$')\n",
    "    df = df.apply(lambda x: x.str.rstrip('%').str.replace(',', '').astype('float') / 100 \n",
    "                              if x.dtype == object and '%' in x.iloc[0] \n",
    "                              else x)\n",
    "    df = df.apply(lambda x: x.apply(lambda y: float(y) if pattern.match(str(y)) else y) \n",
    "                          if x.dtype == object else x)\n",
    "    return df"
   ]
  },
  {
   "cell_type": "code",
   "execution_count": 4,
   "metadata": {},
   "outputs": [
    {
     "name": "stdout",
     "output_type": "stream",
     "text": [
      "DataFrame with Missing Values:\n",
      "   Column1  Column2  Column3  Column4\n",
      "1      NaN      NaN     10.0     13.0\n",
      "2      3.0      7.0      NaN     14.0\n",
      "3      4.0      8.0      NaN      NaN\n",
      "DataFrame with Non-Missing Values:\n",
      "   Column1  Column2  Column3  Column4\n",
      "0      1.0      5.0      9.0     11.0\n"
     ]
    },
    {
     "data": {
      "text/html": [
       "<div>\n",
       "<style scoped>\n",
       "    .dataframe tbody tr th:only-of-type {\n",
       "        vertical-align: middle;\n",
       "    }\n",
       "\n",
       "    .dataframe tbody tr th {\n",
       "        vertical-align: top;\n",
       "    }\n",
       "\n",
       "    .dataframe thead th {\n",
       "        text-align: right;\n",
       "    }\n",
       "</style>\n",
       "<table border=\"1\" class=\"dataframe\">\n",
       "  <thead>\n",
       "    <tr style=\"text-align: right;\">\n",
       "      <th></th>\n",
       "      <th>Column1</th>\n",
       "      <th>Column2</th>\n",
       "      <th>Column3</th>\n",
       "      <th>Column4</th>\n",
       "    </tr>\n",
       "  </thead>\n",
       "  <tbody>\n",
       "    <tr>\n",
       "      <th>0</th>\n",
       "      <td>1.0</td>\n",
       "      <td>5.0</td>\n",
       "      <td>9.0</td>\n",
       "      <td>11.0</td>\n",
       "    </tr>\n",
       "    <tr>\n",
       "      <th>1</th>\n",
       "      <td>NaN</td>\n",
       "      <td>NaN</td>\n",
       "      <td>10.0</td>\n",
       "      <td>13.0</td>\n",
       "    </tr>\n",
       "    <tr>\n",
       "      <th>2</th>\n",
       "      <td>3.0</td>\n",
       "      <td>7.0</td>\n",
       "      <td>NaN</td>\n",
       "      <td>14.0</td>\n",
       "    </tr>\n",
       "    <tr>\n",
       "      <th>3</th>\n",
       "      <td>4.0</td>\n",
       "      <td>8.0</td>\n",
       "      <td>NaN</td>\n",
       "      <td>NaN</td>\n",
       "    </tr>\n",
       "  </tbody>\n",
       "</table>\n",
       "</div>"
      ],
      "text/plain": [
       "   Column1  Column2  Column3  Column4\n",
       "0      1.0      5.0      9.0     11.0\n",
       "1      NaN      NaN     10.0     13.0\n",
       "2      3.0      7.0      NaN     14.0\n",
       "3      4.0      8.0      NaN      NaN"
      ]
     },
     "execution_count": 4,
     "metadata": {},
     "output_type": "execute_result"
    }
   ],
   "source": [
    "import pandas as pd\n",
    "import numpy as np\n",
    "\n",
    "# Example dataframe\n",
    "df = pd.DataFrame({\n",
    "    'Column1': [1, np.nan, 3, 4],\n",
    "    'Column2': [5, np.nan, 7, 8],\n",
    "    'Column3': [9, 10, np.nan, np.nan],\n",
    "    'Column4': [11, 13, 14, np.nan]\n",
    "})\n",
    "\n",
    "# Method to split dataframe based on missing values\n",
    "def split_dataframe(df):\n",
    "    # Get row indexes with NaN or missing values\n",
    "    row_indexes = df.index[df.isna().any(axis=1)]\n",
    "    \n",
    "    # Create dataframe with rows containing missing values\n",
    "    missing_values_df = df.loc[row_indexes]\n",
    "    \n",
    "    # Create dataframe with rows containing non-missing values\n",
    "    non_missing_values_df = df.drop(row_indexes)\n",
    "    \n",
    "    return missing_values_df, non_missing_values_df\n",
    "\n",
    "# Call the method to split the dataframe\n",
    "missing_values_df, non_missing_values_df = split_dataframe(df)\n",
    "print(\"DataFrame with Missing Values:\")\n",
    "print(missing_values_df)\n",
    "print(\"DataFrame with Non-Missing Values:\")\n",
    "print(non_missing_values_df)\n",
    "\n",
    "pd.concat([non_missing_values_df,missing_values_df])\n"
   ]
  },
  {
   "cell_type": "code",
   "execution_count": 1,
   "metadata": {},
   "outputs": [
    {
     "name": "stdout",
     "output_type": "stream",
     "text": [
      "   Column1  Column2  Column3\n",
      "0      1.0      NaN      4.0\n",
      "1      NaN      NaN      NaN\n",
      "2      3.0      6.0      NaN\n"
     ]
    }
   ],
   "source": [
    "import pandas as pd\n",
    "import numpy as np\n",
    "\n",
    "# Example dataframe\n",
    "df = pd.DataFrame({\n",
    "    'Column1': [1, np.nan, 3],\n",
    "    'Column2': [np.nan, np.nan, 6],\n",
    "    'Column3': [4, np.nan, np.nan],\n",
    "    'Column4': [np.nan, np.nan, np.nan]\n",
    "})\n",
    "\n",
    "# Method to slice dataframe to columns with values\n",
    "def slice_dataframe(df):\n",
    "    # Check for columns with at least one non-NaN value\n",
    "    valid_columns = df.columns[df.notna().any()]\n",
    "    \n",
    "    # Slice dataframe to include only valid columns\n",
    "    sliced_df = df[valid_columns]\n",
    "\n",
    "    # Find row indexes with nan values\n",
    "    nan_indexes = df.index[df.isna()].any(axis=1)\n",
    "\n",
    "    \n",
    "    \n",
    "    return sliced_df\n",
    "\n",
    "# Call the method to slice the dataframe\n",
    "sliced_df = slice_dataframe(df)\n",
    "print(sliced_df)\n"
   ]
  },
  {
   "cell_type": "code",
   "execution_count": 5,
   "metadata": {},
   "outputs": [
    {
     "name": "stdout",
     "output_type": "stream",
     "text": [
      "match found: -1248.87\n",
      "-124\n"
     ]
    }
   ],
   "source": [
    "import re\n",
    "\n",
    "pattern = re.compile(r'(\\((\\d{1,3}(?:,\\d{3})*|\\d+(?:\\.\\d+)?)\\)|-?\\d{1,3}(?:,\\d{3})*(?:\\.\\d+)?)')\n",
    "\n",
    "my_string = '-1248.87'\n",
    "\n",
    "if pattern.search(my_string):\n",
    "    print(f\"match found: {my_string}\")\n",
    "    print(pattern.search(my_string).group())\n",
    "else:\n",
    "    print('fail')\n"
   ]
  },
  {
   "cell_type": "code",
   "execution_count": 7,
   "metadata": {},
   "outputs": [],
   "source": [
    "# import pandas as pd\n",
    "# import re\n",
    "\n",
    "# def convert_percent(value):\n",
    "#     return float(value.replace('%', '')) / 100\n",
    "\n",
    "# def convert_dollar(value):\n",
    "#     return float(value.replace('$', '').replace(',', ''))\n",
    "\n",
    "# def convert_accounting(value):\n",
    "#     return -1 * float(value.replace('(', '-').replace(')', '').replace('$', '').replace(',', ''))\n",
    "\n",
    "# def convert_number_formats(df):\n",
    "#     regex_compilers = {\n",
    "#         'percent': re.compile(r'\\d+(\\.\\d+)?%'),\n",
    "#         'dollar': re.compile(r'\\$[\\d,]+(\\.\\d+)?'),\n",
    "#         'accounting': re.compile(r'\\(\\$\\d+([\\d,]+)?(\\.\\d+)?\\)')\n",
    "#     }\n",
    "\n",
    "#     for col in df.columns:\n",
    "#         if df[col].dtype == 'object':\n",
    "#             for format, regex in regex_compilers.items():\n",
    "#                 mask = df[col].str.contains(regex)\n",
    "#                 if mask.any():\n",
    "#                     if format == 'percent':\n",
    "#                         df.loc[mask, col] = df.loc[mask, col].apply(lambda x: convert_percent(x))\n",
    "#                     elif format == 'dollar':\n",
    "#                         df.loc[mask, col] = df.loc[mask, col].apply(lambda x: convert_dollar(x))\n",
    "#                     elif format == 'accounting':\n",
    "#                         df.loc[mask, col] = df.loc[mask, col].apply(lambda x: convert_accounting(x))\n",
    "    \n",
    "#     return df\n",
    "\n",
    "# # Create an example DataFrame\n",
    "# df = pd.DataFrame({'A': ['10%', '$1,234.56', '(5,000)', 'N/A'], 'B': ['(3,000.50)', '$500', '2,000.50', 'N/A']})\n",
    "\n",
    "# # Convert number formats in the DataFrame\n",
    "# df = convert_number_formats(df)\n",
    "\n",
    "# print(df)\n"
   ]
  },
  {
   "cell_type": "code",
   "execution_count": 8,
   "metadata": {},
   "outputs": [],
   "source": [
    "import time\n",
    "\n",
    "def measure_runtime(func):\n",
    "    def wrapper(*args, **kwargs):\n",
    "        start_time = time.time()\n",
    "        result = func(*args, **kwargs)\n",
    "        end_time = time.time()\n",
    "        runtime = end_time - start_time\n",
    "        print(f\"Runtime of {func.__name__}: {runtime} seconds\")\n",
    "        return result\n",
    "    return wrapper\n"
   ]
  },
  {
   "cell_type": "code",
   "execution_count": 9,
   "metadata": {},
   "outputs": [
    {
     "name": "stdout",
     "output_type": "stream",
     "text": [
      "Runtime of convert_number_formats: 0.0020017623901367188 seconds\n",
      "         A        B\n",
      "0     0.10 -30000.5\n",
      "1  1234.56    500.0\n",
      "2 -5000.00   2000.5\n",
      "3      NaN      NaN\n"
     ]
    }
   ],
   "source": [
    "import numpy as np\n",
    "import pandas as pd\n",
    "\n",
    "# method 1\n",
    "def find_digit(str_value: str) -> float:\n",
    "    temp_bin = []\n",
    "    temp_values = [1,1]\n",
    "    for ch in str_value:\n",
    "        if '-' in ch or '.' in ch:\n",
    "            temp_bin.append(ch)\n",
    "        elif ch.isdigit():\n",
    "            temp_bin.append(ch)\n",
    "        elif ch == \"(\":\n",
    "            temp_values[0] = -1\n",
    "        elif ch == \"%\":\n",
    "            temp_values[1] = 100\n",
    "    new_value = ''.join(temp_bin)\n",
    "    if new_value != '':\n",
    "        return (float(new_value) * temp_values[0] ) / temp_values[1]\n",
    "    \n",
    "    else: return str_value\n",
    "\n",
    "# method 2\n",
    "def find_digit(str_value: str) -> float:\n",
    "    if re.search('[a-zA-Z]', str_value):\n",
    "        return str_value\n",
    "    temp_bin = [ch for ch in str_value if ch.isdigit() or ch in '-.']\n",
    "    temp_values = [1, 1]\n",
    "    \n",
    "    for ch in str_value:\n",
    "        if ch == '(':\n",
    "            temp_values[0] = -1\n",
    "        elif ch == '%':\n",
    "            temp_values[1] = 100\n",
    "    \n",
    "    new_value = ''.join(temp_bin)\n",
    "    if new_value != '':\n",
    "        return (float(new_value) * temp_values[0]) / temp_values[1]\n",
    "    else:\n",
    "        return str_value\n",
    "\n",
    "@measure_runtime\n",
    "def convert_number_formats(df):\n",
    "    for col in df.columns:\n",
    "        if df[col].dtype == 'object':\n",
    "            df[col] = df[col].apply(lambda x: find_digit(x) if pd.notnull(x) else x)\n",
    "    return df\n",
    "\n",
    "# Create an example DataFrame\n",
    "df = pd.DataFrame({'A': ['10%', '$1,234.56', '(5,000)', 'N/A'], 'B': ['(3,0000.50)', '$500', '2,000.50', 'N/A']})\n",
    "\n",
    "# Convert number formats in the DataFrame\n",
    "df = convert_number_formats(df)\n",
    "\n",
    "df.replace(['N/A', 'None', ''], np.nan, inplace=True)\n",
    "\n",
    "print(df)\n"
   ]
  },
  {
   "cell_type": "code",
   "execution_count": 10,
   "metadata": {},
   "outputs": [
    {
     "data": {
      "text/plain": [
       "-0.9864221057646498"
      ]
     },
     "execution_count": 10,
     "metadata": {},
     "output_type": "execute_result"
    }
   ],
   "source": [
    "method_1 = 0.0010008811950683594\n",
    "method_2 = 0.0019881725311279297\n",
    "\n",
    "(method_1 - method_2) / method_1"
   ]
  },
  {
   "cell_type": "code",
   "execution_count": 11,
   "metadata": {},
   "outputs": [
    {
     "name": "stdout",
     "output_type": "stream",
     "text": [
      "5\n"
     ]
    }
   ],
   "source": [
    "import re\n",
    "\n",
    "string = '44,404'\n",
    "\n",
    "string = '5-8-99'\n",
    "\n",
    "string = string.replace(',','')\n",
    "\n",
    "pattern = re.compile(r'[0-9]+')\n",
    "\n",
    "match = pattern.match(string)\n",
    "if match:\n",
    "\n",
    "    print(match.group())"
   ]
  },
  {
   "cell_type": "code",
   "execution_count": 12,
   "metadata": {},
   "outputs": [
    {
     "data": {
      "text/plain": [
       "['5', '-', '8', '-', '9', '9']"
      ]
     },
     "execution_count": 12,
     "metadata": {},
     "output_type": "execute_result"
    }
   ],
   "source": [
    "import numpy as np\n",
    "\n",
    "\n",
    "\n",
    "\n",
    "def rm_commas(string_var):\n",
    "    return string_var.replace(',','')\n",
    "\n",
    "[s for s in map(rm_commas, string)]"
   ]
  },
  {
   "cell_type": "code",
   "execution_count": 13,
   "metadata": {},
   "outputs": [
    {
     "name": "stdout",
     "output_type": "stream",
     "text": [
      "re execute\n",
      "re execute\n",
      "re execute\n",
      "re execute\n"
     ]
    },
    {
     "data": {
      "text/plain": [
       "[datetime.date(2021, 7, 27),\n",
       " datetime.date(2022, 1, 8),\n",
       " datetime.date(2022, 1, 8),\n",
       " datetime.date(2022, 1, 8),\n",
       " datetime.date(2021, 12, 5)]"
      ]
     },
     "execution_count": 13,
     "metadata": {},
     "output_type": "execute_result"
    }
   ],
   "source": [
    "import datetime\n",
    "import pandas as pd\n",
    "def conv_date(d:str)-> datetime.date:\n",
    "    \"\"\"Convert MOST dates -- input a string format\"\"\"\n",
    "    d = d.replace(',','')    \n",
    "    # If it is some attempt at a date, give it a shot with the coerce exception return\n",
    "    if '-' in d or '/' in d:\n",
    "        try:\n",
    "            new_date = pd.to_datetime(d)\n",
    "            return new_date.date()\n",
    "        except:\n",
    "            print('except execute')\n",
    "            return pd.to_datetime(d,errors='coerce')\n",
    "    else:\n",
    "        # assume its serialized, give it a shot with a Not-A-Time exception return \n",
    "        pattern = re.compile(r'[0-9]+')\n",
    "        match = pattern.match(d)\n",
    "        if match:\n",
    "            try:\n",
    "                new_date = pd.to_datetime('1899-12-30') + pd.to_timedelta(int(match.group()), 'D')\n",
    "                print('re execute')\n",
    "                return new_date.date()\n",
    "            except:\n",
    "                return pd.NaT\n",
    "            \n",
    "maybe_dates = np.array(['44404','44569','44,569', '44,56,9','12-05-2021'])\n",
    "\n",
    "[d for d in map(conv_date, maybe_dates)]"
   ]
  },
  {
   "cell_type": "code",
   "execution_count": 21,
   "metadata": {},
   "outputs": [
    {
     "data": {
      "text/plain": [
       "314.9"
      ]
     },
     "execution_count": 21,
     "metadata": {},
     "output_type": "execute_result"
    }
   ],
   "source": [
    "x = conv_date('2021-03-05')\n",
    "y = conv_date('2047-01-15')\n",
    "\n",
    "delta = y - x\n",
    "\n",
    "delta.days"
   ]
  },
  {
   "cell_type": "code",
   "execution_count": 26,
   "metadata": {},
   "outputs": [
    {
     "name": "stdout",
     "output_type": "stream",
     "text": [
      "relativedelta(years=+1, months=+2, days=+25)\n",
      "1\n",
      "2\n",
      "14\n"
     ]
    }
   ],
   "source": [
    "from dateutil.relativedelta import relativedelta\n",
    "from datetime import datetime\n",
    "\n",
    "date1 = datetime(2022, 3, 15)\n",
    "date2 = datetime(2023, 6, 9)\n",
    "\n",
    "diff = relativedelta(date2, date1)\n",
    "print(diff)\n",
    "print(diff.years)\n",
    "print(diff.months)\n",
    "months = diff.years * 12 + diff.months\n",
    "\n",
    "print(months)  # Output: 15"
   ]
  },
  {
   "cell_type": "code",
   "execution_count": 32,
   "metadata": {},
   "outputs": [
    {
     "data": {
      "text/plain": [
       "305"
      ]
     },
     "execution_count": 32,
     "metadata": {},
     "output_type": "execute_result"
    }
   ],
   "source": [
    "def month_diff(start_date: datetime.date, end_date: datetime.date) -> int:\n",
    "    \"\"\"Calculate the difference in months between two dates\"\"\"\n",
    "    diff = relativedelta(end_date, start_date)\n",
    "    return diff.years * 12 + diff.months\n",
    "\n",
    "date1 = datetime(2021, 7, 16)\n",
    "date2 = datetime(2047, 1, 9)\n",
    "\n",
    "month_diff(date1,date2)"
   ]
  },
  {
   "cell_type": "code",
   "execution_count": 37,
   "metadata": {},
   "outputs": [
    {
     "data": {
      "text/plain": [
       "9308"
      ]
     },
     "execution_count": 37,
     "metadata": {},
     "output_type": "execute_result"
    }
   ],
   "source": [
    "def days_diff(start_date: datetime.date, end_date: datetime.date) -> int:\n",
    "    return pd.Timedelta(end_date-start_date).days\n",
    "\n",
    "days_diff(date1,date2)"
   ]
  },
  {
   "cell_type": "code",
   "execution_count": 38,
   "metadata": {},
   "outputs": [
    {
     "data": {
      "text/html": [
       "<div>\n",
       "<style scoped>\n",
       "    .dataframe tbody tr th:only-of-type {\n",
       "        vertical-align: middle;\n",
       "    }\n",
       "\n",
       "    .dataframe tbody tr th {\n",
       "        vertical-align: top;\n",
       "    }\n",
       "\n",
       "    .dataframe thead th {\n",
       "        text-align: right;\n",
       "    }\n",
       "</style>\n",
       "<table border=\"1\" class=\"dataframe\">\n",
       "  <thead>\n",
       "    <tr style=\"text-align: right;\">\n",
       "      <th></th>\n",
       "      <th>A</th>\n",
       "      <th>B</th>\n",
       "    </tr>\n",
       "  </thead>\n",
       "  <tbody>\n",
       "    <tr>\n",
       "      <th>2</th>\n",
       "      <td>3</td>\n",
       "      <td>C</td>\n",
       "    </tr>\n",
       "  </tbody>\n",
       "</table>\n",
       "</div>"
      ],
      "text/plain": [
       "   A  B\n",
       "2  3  C"
      ]
     },
     "execution_count": 38,
     "metadata": {},
     "output_type": "execute_result"
    }
   ],
   "source": [
    "data = {'A': [1,2,3], 'B':['A','B','C']}\n",
    "df = pd.DataFrame(data)\n",
    "\n",
    "mask = (df['A']>1) & (df['B']=='C')\n",
    "\n",
    "df[mask]"
   ]
  },
  {
   "cell_type": "code",
   "execution_count": 41,
   "metadata": {},
   "outputs": [
    {
     "name": "stdout",
     "output_type": "stream",
     "text": [
      "{1: range(0, 96)}\n"
     ]
    }
   ],
   "source": [
    "def term_bucket(test):\n",
    "    term_mapping = {\n",
    "        1 : range(0,96)\n",
    "        \n",
    "    }\n",
    "    print(term_mapping)\n",
    "\n",
    "\n",
    "term_bucket()"
   ]
  },
  {
   "cell_type": "code",
   "execution_count": 45,
   "metadata": {},
   "outputs": [
    {
     "name": "stdout",
     "output_type": "stream",
     "text": [
      "1\n",
      "1\n",
      "2\n",
      "1\n"
     ]
    }
   ],
   "source": [
    "import numpy as np\n",
    "\n",
    "def term_bucket(value):\n",
    "    term_mapping = {\n",
    "        1: range(0, 96),\n",
    "        2: range(97, 132),\n",
    "        3: range(132, 192),\n",
    "        4: range(192, 252),\n",
    "        5: range(252, 500)\n",
    "    }\n",
    "    \n",
    "    for key, range_values in term_mapping.items():\n",
    "        if value in range_values:\n",
    "            return key\n",
    "    \n",
    "    # Return a default value if no match is found\n",
    "    return None\n",
    "\n",
    "test_values = [10, 12, 100, 63]\n",
    "for value in test_values:\n",
    "    print(term_bucket(value))\n"
   ]
  },
  {
   "cell_type": "code",
   "execution_count": 49,
   "metadata": {},
   "outputs": [
    {
     "name": "stdout",
     "output_type": "stream",
     "text": [
      "[5, 5, 5, 5, 5, 5, 5, 5, 5, 5, 5, 5, 5, 5, 5, 5, 5, 5, 5, 5, 5, 5]\n"
     ]
    }
   ],
   "source": [
    "test=[305,\n",
    "307,\n",
    "301,\n",
    "302,\n",
    "303,\n",
    "309,\n",
    "309,\n",
    "300,\n",
    "301,\n",
    "301,\n",
    "300,\n",
    "312,\n",
    "300,\n",
    "300,\n",
    "313,\n",
    "313,\n",
    "311,\n",
    "301,\n",
    "301,\n",
    "301,\n",
    "309,\n",
    "304]\n",
    "\n",
    "print(list(map(term_bucket,test)))\n"
   ]
  },
  {
   "cell_type": "code",
   "execution_count": null,
   "metadata": {},
   "outputs": [],
   "source": []
  }
 ],
 "metadata": {
  "kernelspec": {
   "display_name": "venv",
   "language": "python",
   "name": "python3"
  },
  "language_info": {
   "codemirror_mode": {
    "name": "ipython",
    "version": 3
   },
   "file_extension": ".py",
   "mimetype": "text/x-python",
   "name": "python",
   "nbconvert_exporter": "python",
   "pygments_lexer": "ipython3",
   "version": "3.11.3"
  },
  "orig_nbformat": 4
 },
 "nbformat": 4,
 "nbformat_minor": 2
}
