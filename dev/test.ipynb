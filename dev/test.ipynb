{
 "cells": [
  {
   "cell_type": "code",
   "execution_count": 28,
   "metadata": {},
   "outputs": [],
   "source": [
    "import pandas as pd\n",
    "import re\n",
    "\n",
    "def convert_formats_to_floats(df):\n",
    "    pattern = re.compile(r'^-?\\d{1,3}(?:,\\d{3})*(?:\\.\\d+)?$')\n",
    "    df = df.apply(lambda x: x.str.rstrip('%').str.replace(',', '').astype('float') / 100 \n",
    "                              if x.dtype == object and '%' in x.iloc[0] \n",
    "                              else x)\n",
    "    df = df.apply(lambda x: x.apply(lambda y: float(y) if pattern.match(str(y)) else y) \n",
    "                          if x.dtype == object else x)\n",
    "    return df"
   ]
  },
  {
   "cell_type": "code",
   "execution_count": 29,
   "metadata": {},
   "outputs": [
    {
     "name": "stdout",
     "output_type": "stream",
     "text": [
      "match found: -1248.87\n",
      "-124\n"
     ]
    }
   ],
   "source": [
    "import re\n",
    "\n",
    "pattern = re.compile(r'(\\((\\d{1,3}(?:,\\d{3})*|\\d+(?:\\.\\d+)?)\\)|-?\\d{1,3}(?:,\\d{3})*(?:\\.\\d+)?)')\n",
    "\n",
    "my_string = '-1248.87'\n",
    "\n",
    "if pattern.search(my_string):\n",
    "    print(f\"match found: {my_string}\")\n",
    "    print(pattern.search(my_string).group())\n",
    "else:\n",
    "    print('fail')\n"
   ]
  },
  {
   "cell_type": "code",
   "execution_count": null,
   "metadata": {},
   "outputs": [],
   "source": [
    "import pandas as pd\n",
    "import re\n",
    "\n",
    "def convert_percent(value):\n",
    "    return float(value.replace('%', '')) / 100\n",
    "\n",
    "def convert_dollar(value):\n",
    "    return float(value.replace('$', '').replace(',', ''))\n",
    "\n",
    "def convert_accounting(value):\n",
    "    return -1 * float(value.replace('(', '-').replace(')', '').replace('$', '').replace(',', ''))\n",
    "\n",
    "def convert_number_formats(df):\n",
    "    regex_compilers = {\n",
    "        'percent': re.compile(r'\\d+(\\.\\d+)?%'),\n",
    "        'dollar': re.compile(r'\\$[\\d,]+(\\.\\d+)?'),\n",
    "        'accounting': re.compile(r'\\(\\$\\d+([\\d,]+)?(\\.\\d+)?\\)')\n",
    "    }\n",
    "\n",
    "    for col in df.columns:\n",
    "        if df[col].dtype == 'object':\n",
    "            for format, regex in regex_compilers.items():\n",
    "                mask = df[col].str.contains(regex)\n",
    "                if mask.any():\n",
    "                    if format == 'percent':\n",
    "                        df.loc[mask, col] = df.loc[mask, col].apply(lambda x: convert_percent(x))\n",
    "                    elif format == 'dollar':\n",
    "                        df.loc[mask, col] = df.loc[mask, col].apply(lambda x: convert_dollar(x))\n",
    "                    elif format == 'accounting':\n",
    "                        df.loc[mask, col] = df.loc[mask, col].apply(lambda x: convert_accounting(x))\n",
    "    \n",
    "    return df\n",
    "\n",
    "# Create an example DataFrame\n",
    "df = pd.DataFrame({'A': ['10%', '$1,234.56', '(5,000)', 'N/A'], 'B': ['(3,000.50)', '$500', '2,000.50', 'N/A']})\n",
    "\n",
    "# Convert number formats in the DataFrame\n",
    "df = convert_number_formats(df)\n",
    "\n",
    "print(df)\n"
   ]
  },
  {
   "cell_type": "code",
   "execution_count": 83,
   "metadata": {},
   "outputs": [],
   "source": [
    "import time\n",
    "\n",
    "def measure_runtime(func):\n",
    "    def wrapper(*args, **kwargs):\n",
    "        start_time = time.time()\n",
    "        result = func(*args, **kwargs)\n",
    "        end_time = time.time()\n",
    "        runtime = end_time - start_time\n",
    "        print(f\"Runtime of {func.__name__}: {runtime} seconds\")\n",
    "        return result\n",
    "    return wrapper\n"
   ]
  },
  {
   "cell_type": "code",
   "execution_count": 90,
   "metadata": {},
   "outputs": [
    {
     "name": "stdout",
     "output_type": "stream",
     "text": [
      "Runtime of convert_number_formats: 0.0019986629486083984 seconds\n",
      "         A        B\n",
      "0     0.10 -30000.5\n",
      "1  1234.56    500.0\n",
      "2 -5000.00   2000.5\n",
      "3      NaN      NaN\n"
     ]
    }
   ],
   "source": [
    "import numpy as np\n",
    "import pandas as pd\n",
    "\n",
    "# method 1\n",
    "def find_digit(str_value: str) -> float:\n",
    "    temp_bin = []\n",
    "    temp_values = [1,1]\n",
    "    for ch in str_value:\n",
    "        if '-' in ch or '.' in ch:\n",
    "            temp_bin.append(ch)\n",
    "        elif ch.isdigit():\n",
    "            temp_bin.append(ch)\n",
    "        elif ch == \"(\":\n",
    "            temp_values[0] = -1\n",
    "        elif ch == \"%\":\n",
    "            temp_values[1] = 100\n",
    "    new_value = ''.join(temp_bin)\n",
    "    if new_value != '':\n",
    "        return (float(new_value) * temp_values[0] ) / temp_values[1]\n",
    "    \n",
    "    else: return str_value\n",
    "\n",
    "# method 2\n",
    "def find_digit(str_value: str) -> float:\n",
    "    if re.search('[a-zA-Z]', str_value):\n",
    "        return str_value\n",
    "    temp_bin = [ch for ch in str_value if ch.isdigit() or ch in '-.']\n",
    "    temp_values = [1, 1]\n",
    "    \n",
    "    for ch in str_value:\n",
    "        if ch == '(':\n",
    "            temp_values[0] = -1\n",
    "        elif ch == '%':\n",
    "            temp_values[1] = 100\n",
    "    \n",
    "    new_value = ''.join(temp_bin)\n",
    "    if new_value != '':\n",
    "        return (float(new_value) * temp_values[0]) / temp_values[1]\n",
    "    else:\n",
    "        return str_value\n",
    "\n",
    "@measure_runtime\n",
    "def convert_number_formats(df):\n",
    "    for col in df.columns:\n",
    "        if df[col].dtype == 'object':\n",
    "            df[col] = df[col].apply(lambda x: find_digit(x) if pd.notnull(x) else x)\n",
    "    return df\n",
    "\n",
    "# Create an example DataFrame\n",
    "df = pd.DataFrame({'A': ['10%', '$1,234.56', '(5,000)', 'N/A'], 'B': ['(3,0000.50)', '$500', '2,000.50', 'N/A']})\n",
    "\n",
    "# Convert number formats in the DataFrame\n",
    "df = convert_number_formats(df)\n",
    "\n",
    "df.replace(['N/A', 'None', ''], np.nan, inplace=True)\n",
    "\n",
    "print(df)\n"
   ]
  },
  {
   "cell_type": "code",
   "execution_count": 92,
   "metadata": {},
   "outputs": [
    {
     "data": {
      "text/plain": [
       "-0.9864221057646498"
      ]
     },
     "execution_count": 92,
     "metadata": {},
     "output_type": "execute_result"
    }
   ],
   "source": [
    "method_1 = 0.0010008811950683594\n",
    "method_2 = 0.0019881725311279297\n",
    "\n",
    "(method_1 - method_2) / method_1"
   ]
  },
  {
   "cell_type": "code",
   "execution_count": 66,
   "metadata": {},
   "outputs": [
    {
     "data": {
      "text/plain": [
       "A    float64\n",
       "B    float64\n",
       "dtype: object"
      ]
     },
     "execution_count": 66,
     "metadata": {},
     "output_type": "execute_result"
    }
   ],
   "source": [
    "df.dtypes"
   ]
  }
 ],
 "metadata": {
  "kernelspec": {
   "display_name": "venv",
   "language": "python",
   "name": "python3"
  },
  "language_info": {
   "codemirror_mode": {
    "name": "ipython",
    "version": 3
   },
   "file_extension": ".py",
   "mimetype": "text/x-python",
   "name": "python",
   "nbconvert_exporter": "python",
   "pygments_lexer": "ipython3",
   "version": "3.11.3"
  },
  "orig_nbformat": 4
 },
 "nbformat": 4,
 "nbformat_minor": 2
}
