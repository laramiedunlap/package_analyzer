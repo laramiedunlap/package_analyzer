{
 "cells": [
  {
   "cell_type": "code",
   "execution_count": 2,
   "metadata": {},
   "outputs": [],
   "source": [
    "import pandas as pd\n",
    "import openpyxl as pyx\n",
    "\n",
    "\n",
    "# wb = pyx.load_workbook('../sample_data/FHN_pkg_analyzer_example.xlsx')\n",
    "\n",
    "# print(wb.sheetnames)\n",
    "\n",
    "\n",
    "\n",
    "\n"
   ]
  },
  {
   "cell_type": "code",
   "execution_count": 2,
   "metadata": {},
   "outputs": [],
   "source": [
    "# sheet = wb.active\n",
    "\n",
    "# [cell.value.replace('\\n','').strip() for cell in sheet[13] if cell.value != None]"
   ]
  },
  {
   "cell_type": "code",
   "execution_count": 8,
   "metadata": {},
   "outputs": [],
   "source": [
    "test = pd.read_csv('../sample_data/SAMPLE_FHN.csv').head()"
   ]
  },
  {
   "cell_type": "code",
   "execution_count": null,
   "metadata": {},
   "outputs": [],
   "source": [
    "cols = test.columns.to_list()\n",
    "cols = [c.strip().replace('\\n',\" \") for c in cols]\n",
    "cols = [c for c in test.columns.to_list() if \"unnamed\" not in str(c).lower()]\n",
    "test = test[[c for c in test.columns.to_list() if \"unnamed\" not in str(c).lower()]]\n",
    "\n",
    "test.columns = cols\n",
    "test"
   ]
  },
  {
   "cell_type": "code",
   "execution_count": 9,
   "metadata": {},
   "outputs": [],
   "source": [
    "import pandas as pd\n",
    "import numpy as np\n",
    "import openpyxl as pyxl\n",
    "from dataclasses import dataclass\n",
    "import json\n",
    "from pathlib import Path\n",
    "\n",
    "\n",
    "class LoanTape:\n",
    "    df: pd.DataFrame\n",
    "    raw_dfs: list\n",
    "\n",
    "    def rm_unnamed(self, _cols:list)->list:\n",
    "        return [c for c in _cols if \"unnamed\" not in str(c).lower()]\n",
    "\n",
    "    def norm_raw_cols(self)->None:\n",
    "        \"\"\"Normalize the columns -- remove white space and line breaks\"\"\"\n",
    "        if len(self.raw_dfs)>0:\n",
    "            norm_dfs = []\n",
    "            for df in self.raw_dfs:\n",
    "                cols = df.columns.to_list()\n",
    "                cols = [c.strip().replace(\"\\n\",\" \") for c in cols]\n",
    "                df.columns = cols\n",
    "                norm_dfs.append(df)\n",
    "            self.raw_dfs = norm_dfs\n",
    "        else:\n",
    "            print(\"No raw loan data\")        \n",
    "        return None\n",
    "    \n",
    "    def parse_data(self):\n",
    "        \"\"\"parse the raw loan data by using the available packages\"\"\"\n",
    "        pkg_path = Path('package_maps/packages.json')\n",
    "        pkg_file = open(pkg_path)\n",
    "        format_opts = json.load(pkg_file)\n",
    "        return format_opts\n",
    "\n",
    "    def __init__(self, clean_columns, data=list()):\n",
    "        self.df = pd.DataFrame(columns=clean_columns)\n",
    "        self.raw_dfs = data\n",
    "        self.norm_raw_cols()\n",
    "        self.raw_dfs = [df[self.rm_unnamed(df.columns.to_list())] for df in self.raw_dfs]"
   ]
  },
  {
   "cell_type": "code",
   "execution_count": 15,
   "metadata": {},
   "outputs": [
    {
     "name": "stdout",
     "output_type": "stream",
     "text": [
      "{'FHN': {'Trans': '', 'GP#': 'GP#', 'Status': '', 'Inv Status': '', 'Pkg ID': '', 'GTD Balance': 'Current Balance', 'Orig Fee': 'Strip Rate', 'Note Dt': 'Note Date', 'Loan Age': '', 'Matures': 'Note Maturity', 'Orig Mos': '', 'Mat Mos': '', 'Paid To': '', 'Sell Ratio': 'Multiple', 'Sell Value': '', 'Borrower': 'Borrower Name', 'Street Addr': '', 'City/State': 'func_geosplit', 'NAICS': 'SIC / NAICS', 'Gross Cpn': 'Loan Spread', 'Adjust': 'ADJ', 'Pays': '', 'Net Cap': '', 'Net Flr': '', 'Basis': 'Accrual', 'Orig Lender': 'Lender', 'Cert': ''}}\n",
      "{'Trans': '', 'GP#': 'GP#', 'Status': '', 'Inv Status': '', 'Pkg ID': '', 'GTD Balance': 'Current Balance', 'Orig Fee': 'Strip Rate', 'Note Dt': 'Note Date', 'Loan Age': '', 'Matures': 'Note Maturity', 'Orig Mos': '', 'Mat Mos': '', 'Paid To': '', 'Sell Ratio': 'Multiple', 'Sell Value': '', 'Borrower': 'Borrower Name', 'Street Addr': '', 'City/State': 'func_geosplit', 'NAICS': 'SIC / NAICS', 'Gross Cpn': 'Loan Spread', 'Adjust': 'ADJ', 'Pays': '', 'Net Cap': '', 'Net Flr': '', 'Basis': 'Accrual', 'Orig Lender': 'Lender', 'Cert': ''}\n"
     ]
    }
   ],
   "source": [
    "import json\n",
    "from pathlib import Path\n",
    "\n",
    "clean_columns= ['Pck / Deal','GP#', 'Days', 'Category', 'Borrower Name', 'City', 'State', 'SIC /NAICS', 'ADJ', 'Accrual', 'Note Date',\n",
    "'Note Maturity', 'Int. Paid to Date', 'Loan Spread', 'Loan Rate',\n",
    "'Strip Rate', 'Original Balance', 'Current Balance', 'Multiple', \n",
    "'Proceeds', 'Term', 'Age', 'Rmos', 'Industry', 'Prepayment Penalty',\n",
    "'Term Bucket', 'Industry Bucket', 'Lender', 'Prepayment Notice']\n",
    "\n",
    "pkg_path = Path('package_maps/packages.json')\n",
    "pkg_file = open(pkg_path)\n",
    "pkgs = json.load(pkg_file)\n",
    "\n",
    "test_FHN = pd.read_csv('../sample_data/SAMPLE_FHN.csv').head()\n",
    "\n",
    "lt = LoanTape(clean_columns=clean_columns,data=[test_FHN])\n",
    "\n",
    "\n",
    "\n",
    "test = lt.raw_dfs.pop()\n",
    "fmt = lt.parse_data()\n",
    "\n",
    "\n",
    "for key in fmt.keys():\n",
    "    print(fmt[key])\n",
    "# for c in test.columns:\n",
    "\n"
   ]
  },
  {
   "cell_type": "code",
   "execution_count": 13,
   "metadata": {},
   "outputs": [
    {
     "data": {
      "text/plain": [
       "[]"
      ]
     },
     "execution_count": 13,
     "metadata": {},
     "output_type": "execute_result"
    }
   ],
   "source": [
    "lt.raw_dfs"
   ]
  },
  {
   "cell_type": "code",
   "execution_count": null,
   "metadata": {},
   "outputs": [
    {
     "name": "stdout",
     "output_type": "stream",
     "text": [
      "dict_keys(['format'])\n"
     ]
    }
   ],
   "source": [
    "def geo_split(**kwargs):\n",
    "    print(kwargs.keys())\n",
    "\n",
    "\n",
    "geo_split(format='FHN')"
   ]
  },
  {
   "cell_type": "code",
   "execution_count": null,
   "metadata": {},
   "outputs": [],
   "source": []
  }
 ],
 "metadata": {
  "kernelspec": {
   "display_name": "base",
   "language": "python",
   "name": "python3"
  },
  "language_info": {
   "codemirror_mode": {
    "name": "ipython",
    "version": 3
   },
   "file_extension": ".py",
   "mimetype": "text/x-python",
   "name": "python",
   "nbconvert_exporter": "python",
   "pygments_lexer": "ipython3",
   "version": "3.9.16"
  },
  "orig_nbformat": 4
 },
 "nbformat": 4,
 "nbformat_minor": 2
}
