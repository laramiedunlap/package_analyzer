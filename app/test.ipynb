{
 "cells": [
  {
   "cell_type": "code",
   "execution_count": 2,
   "metadata": {},
   "outputs": [],
   "source": [
    "import pandas as pd\n",
    "import openpyxl as pyx\n",
    "\n",
    "\n",
    "# wb = pyx.load_workbook('../sample_data/FHN_pkg_analyzer_example.xlsx')\n",
    "\n",
    "# print(wb.sheetnames)\n",
    "\n",
    "\n",
    "\n",
    "\n"
   ]
  },
  {
   "cell_type": "code",
   "execution_count": 2,
   "metadata": {},
   "outputs": [],
   "source": [
    "# sheet = wb.active\n",
    "\n",
    "# [cell.value.replace('\\n','').strip() for cell in sheet[13] if cell.value != None]"
   ]
  },
  {
   "cell_type": "code",
   "execution_count": 8,
   "metadata": {},
   "outputs": [],
   "source": [
    "test = pd.read_csv('../sample_data/SAMPLE_FHN.csv').head()"
   ]
  },
  {
   "cell_type": "code",
   "execution_count": null,
   "metadata": {},
   "outputs": [],
   "source": [
    "cols = test.columns.to_list()\n",
    "cols = [c.strip().replace('\\n',\" \") for c in cols]\n",
    "cols = [c for c in test.columns.to_list() if \"unnamed\" not in str(c).lower()]\n",
    "test = test[[c for c in test.columns.to_list() if \"unnamed\" not in str(c).lower()]]\n",
    "\n",
    "test.columns = cols\n",
    "test"
   ]
  },
  {
   "cell_type": "code",
   "execution_count": null,
   "metadata": {},
   "outputs": [],
   "source": [
    "import loantape\n",
    "\n",
    "lt = loantape.LoanTape(clean_columns= ['Pck / Deal','GP#', 'Days', 'Category', 'Borrower Name', 'City', 'State', 'SIC /NAICS', 'ADJ', 'Accrual', 'Note Date',\n",
    "'Note Maturity', 'Int. Paid to Date', 'Loan Spread', 'Loan Rate',\n",
    "'Strip Rate', 'Original Balance', 'Current Balance', 'Multiple', \n",
    "'Proceeds', 'Term', 'Age', 'Rmos', 'Industry', 'Prepayment Penalty',\n",
    "'Term Bucket', 'Industry Bucket', 'Lender', 'Prepayment Notice'])\n",
    "\n",
    "\n",
    "lt.parse_data()"
   ]
  },
  {
   "cell_type": "code",
   "execution_count": 15,
   "metadata": {},
   "outputs": [
    {
     "data": {
      "text/plain": [
       "{'FHN': {'Trans': '',\n",
       "  'GP#': 'GP#',\n",
       "  'Status': '',\n",
       "  'Inv Status': '',\n",
       "  'Pkg ID': '',\n",
       "  'GTD Balance': 'Current Balance',\n",
       "  'Orig Fee': 'Strip Rate',\n",
       "  'Note Dt': 'Note Date',\n",
       "  'Loan Age': '',\n",
       "  'Matures': 'Note Maturity',\n",
       "  'Orig Mos': '',\n",
       "  'Mat Mos': '',\n",
       "  'Paid To': '',\n",
       "  'Sell Ratio': 'Multiple',\n",
       "  'Sell Value': '',\n",
       "  'Borrower': 'Borrower Name',\n",
       "  'Street Addr': '',\n",
       "  'City/State': 'func_geosplit',\n",
       "  'NAICS': 'SIC / NAICS',\n",
       "  'Gross Cpn': 'Loan Spread',\n",
       "  'Adjust': 'ADJ',\n",
       "  'Pays': '',\n",
       "  'Net Cap': '',\n",
       "  'Net Flr': '',\n",
       "  'Basis': 'Accrual',\n",
       "  'Orig Lender': 'Lender',\n",
       "  'Cert': ''}}"
      ]
     },
     "execution_count": 15,
     "metadata": {},
     "output_type": "execute_result"
    }
   ],
   "source": [
    "import json\n",
    "from pathlib import Path\n",
    "\n",
    "pkg_path = Path('package_maps/packages.json')\n",
    "pkg_file = open(pkg_path)\n",
    "json.load(pkg_file)\n"
   ]
  },
  {
   "cell_type": "code",
   "execution_count": 17,
   "metadata": {},
   "outputs": [
    {
     "name": "stdout",
     "output_type": "stream",
     "text": [
      "dict_keys(['format'])\n"
     ]
    }
   ],
   "source": [
    "def geo_split(**kwargs):\n",
    "    print(kwargs.keys())\n",
    "\n",
    "\n",
    "geo_split(format='FHN')"
   ]
  },
  {
   "cell_type": "code",
   "execution_count": null,
   "metadata": {},
   "outputs": [],
   "source": []
  }
 ],
 "metadata": {
  "kernelspec": {
   "display_name": "base",
   "language": "python",
   "name": "python3"
  },
  "language_info": {
   "codemirror_mode": {
    "name": "ipython",
    "version": 3
   },
   "file_extension": ".py",
   "mimetype": "text/x-python",
   "name": "python",
   "nbconvert_exporter": "python",
   "pygments_lexer": "ipython3",
   "version": "3.9.16"
  },
  "orig_nbformat": 4
 },
 "nbformat": 4,
 "nbformat_minor": 2
}
